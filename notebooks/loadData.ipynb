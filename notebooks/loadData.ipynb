{
 "cells": [
  {
   "cell_type": "code",
   "execution_count": 6,
   "id": "e71eadd2",
   "metadata": {},
   "outputs": [
    {
     "name": "stdout",
     "output_type": "stream",
     "text": [
      "              Country              City  AQI Value AQI Category  CO AQI Value  \\\n",
      "0  Russian Federation        Praskoveya         51     Moderate             1   \n",
      "1              Brazil  Presidente Dutra         41         Good             1   \n",
      "2               Italy   Priolo Gargallo         66     Moderate             1   \n",
      "3              Poland         Przasnysz         34         Good             1   \n",
      "4              France          Punaauia         22         Good             0   \n",
      "\n",
      "  CO AQI Category  Ozone AQI Value Ozone AQI Category  NO2 AQI Value  \\\n",
      "0            Good               36               Good              0   \n",
      "1            Good                5               Good              1   \n",
      "2            Good               39               Good              2   \n",
      "3            Good               34               Good              0   \n",
      "4            Good               22               Good              0   \n",
      "\n",
      "  NO2 AQI Category  PM2.5 AQI Value PM2.5 AQI Category  \n",
      "0             Good               51           Moderate  \n",
      "1             Good               41               Good  \n",
      "2             Good               66           Moderate  \n",
      "3             Good               20               Good  \n",
      "4             Good                6               Good  \n"
     ]
    }
   ],
   "source": [
    "import pandas as pd\n",
    "\n",
    "df = pd.read_csv('../data/global air pollution dataset.csv')\n",
    "print(df[['Country','City','AQI Value','AQI Category','CO AQI Value','CO AQI Category','Ozone AQI Value','Ozone AQI Category','NO2 AQI Value','NO2 AQI Category','PM2.5 AQI Value','PM2.5 AQI Category']].head())"
   ]
  }
 ],
 "metadata": {
  "kernelspec": {
   "display_name": "Python 3",
   "language": "python",
   "name": "python3"
  },
  "language_info": {
   "codemirror_mode": {
    "name": "ipython",
    "version": 3
   },
   "file_extension": ".py",
   "mimetype": "text/x-python",
   "name": "python",
   "nbconvert_exporter": "python",
   "pygments_lexer": "ipython3",
   "version": "3.12.6"
  }
 },
 "nbformat": 4,
 "nbformat_minor": 5
}
